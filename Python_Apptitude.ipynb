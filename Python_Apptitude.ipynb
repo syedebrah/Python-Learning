{
  "nbformat": 4,
  "nbformat_minor": 0,
  "metadata": {
    "colab": {
      "provenance": []
    },
    "kernelspec": {
      "name": "python3",
      "display_name": "Python 3"
    },
    "language_info": {
      "name": "python"
    }
  },
  "cells": [
    {
      "cell_type": "code",
      "execution_count": 1,
      "metadata": {
        "id": "WiCybOfovu_j"
      },
      "outputs": [],
      "source": [
        "def remove_duplicate01(lst): #this is our function\n",
        "  result = []              #this will hold the unique items\n",
        "                           #go through each item in the original list\n",
        "  for item in lst:\n",
        "    if item not in result: #check the item is not seen in result list\n",
        "      result.append(item)  #If it is new add it to our result list\n",
        "  return result            #finally retuen the results without duplicate"
      ]
    },
    {
      "cell_type": "code",
      "source": [
        "print(remove_duplicate01([1,2,3,3,3,3,4,5]))"
      ],
      "metadata": {
        "colab": {
          "base_uri": "https://localhost:8080/"
        },
        "id": "HVWygsHDwbZ7",
        "outputId": "bfb17d23-c666-4f63-b5c9-bd2cac20d25c"
      },
      "execution_count": 2,
      "outputs": [
        {
          "output_type": "stream",
          "name": "stdout",
          "text": [
            "[1, 2, 3, 4, 5]\n"
          ]
        }
      ]
    },
    {
      "cell_type": "code",
      "source": [
        "def remove_duplicate02(lst):  # fromkeys used to remove dulpicates\n",
        "  return list(dict.fromkeys(lst))\n",
        "print(remove_duplicate02([1,2,3,3,3,3,4,5]))"
      ],
      "metadata": {
        "colab": {
          "base_uri": "https://localhost:8080/"
        },
        "id": "JHNoHA6rwgOG",
        "outputId": "a209531a-6904-4feb-aed3-7e87e43b8e80"
      },
      "execution_count": 3,
      "outputs": [
        {
          "output_type": "stream",
          "name": "stdout",
          "text": [
            "[1, 2, 3, 4, 5]\n"
          ]
        }
      ]
    },
    {
      "cell_type": "code",
      "source": [],
      "metadata": {
        "id": "O9Mg0Vq5zJMp"
      },
      "execution_count": null,
      "outputs": []
    }
  ]
}