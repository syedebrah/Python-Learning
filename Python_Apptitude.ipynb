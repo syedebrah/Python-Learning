{
  "cells": [
    {
      "cell_type": "code",
      "execution_count": 1,
      "metadata": {
        "id": "WiCybOfovu_j"
      },
      "outputs": [],
      "source": [
        "def remove_duplicate01(lst): #this is our function\n",
        "  result = []              #this will hold the unique items\n",
        "                           #go through each item in the original list\n",
        "  for item in lst:\n",
        "    if item not in result: #check the item is not seen in result list\n",
        "      result.append(item)  #If it is new add it to our result list\n",
        "  return result            #finally retuen the results without duplicate"
      ]
    },
    {
      "cell_type": "code",
      "execution_count": 2,
      "metadata": {
        "colab": {
          "base_uri": "https://localhost:8080/"
        },
        "id": "HVWygsHDwbZ7",
        "outputId": "bfb17d23-c666-4f63-b5c9-bd2cac20d25c"
      },
      "outputs": [
        {
          "name": "stdout",
          "output_type": "stream",
          "text": [
            "[1, 2, 3, 4, 5]\n"
          ]
        }
      ],
      "source": [
        "print(remove_duplicate01([1,2,3,3,3,3,4,5]))"
      ]
    },
    {
      "cell_type": "code",
      "execution_count": 3,
      "metadata": {
        "colab": {
          "base_uri": "https://localhost:8080/"
        },
        "id": "JHNoHA6rwgOG",
        "outputId": "a209531a-6904-4feb-aed3-7e87e43b8e80"
      },
      "outputs": [
        {
          "name": "stdout",
          "output_type": "stream",
          "text": [
            "[1, 2, 3, 4, 5]\n"
          ]
        }
      ],
      "source": [
        "def remove_duplicate02(lst):  # fromkeys used to remove dulpicates\n",
        "  return list(dict.fromkeys(lst))\n",
        "print(remove_duplicate02([1,2,3,3,3,3,4,5]))"
      ]
    },
    {
      "cell_type": "code",
      "execution_count": null,
      "metadata": {
        "id": "O9Mg0Vq5zJMp"
      },
      "outputs": [
        {
          "name": "stdout",
          "output_type": "stream",
          "text": [
            "olleh\n"
          ]
        }
      ],
      "source": [
        "def reverse_string(s):\n",
        "    return s[::-1]\n",
        "\n",
        "print(reverse_string(\"syed\"))  # Output: olleh\n"
      ]
    },
    {
      "cell_type": "markdown",
      "metadata": {},
      "source": [
        "\n",
        "\n",
        "## 🔄 Your Goal:\n",
        "\n",
        "Reverse this string:\n",
        "\n",
        "```python\n",
        "s = \"hello\"\n",
        "```\n",
        "\n",
        "We want the output:\n",
        "\n",
        "```\n",
        "\"olleh\"\n",
        "```\n",
        "\n",
        "---\n",
        "\n",
        "## ✅ What is `s[::-1]`?\n",
        "\n",
        "This is called **slicing**.\n",
        "\n",
        "### Format of slicing:\n",
        "\n",
        "```\n",
        "s[start : end : step]\n",
        "```\n",
        "\n",
        "| Term  | Meaning                                  |\n",
        "| ----- | ---------------------------------------- |\n",
        "| start | Where to start (default is 0)            |\n",
        "| end   | Where to stop (default is end of string) |\n",
        "| step  | How to move (default is +1)              |\n",
        "\n",
        "---\n",
        "\n",
        "## 🔁 So What Does `s[::-1]` Do?\n",
        "\n",
        "```python\n",
        "s = \"hello\"\n",
        "s[::-1]\n",
        "```\n",
        "\n",
        "* No start → start from the end of string\n",
        "* No end → go until the start\n",
        "* Step = `-1` → **move backwards**\n",
        "\n",
        "So it reads:\n",
        "📣 “Go from end to start, one character at a time.”\n",
        "\n",
        "---\n",
        "\n",
        "## 👀 Let’s See It Happen:\n",
        "\n",
        "Original String:\n",
        "\n",
        "```\n",
        "Index:     0   1   2   3   4\n",
        "Letters:   h   e   l   l   o\n",
        "```\n",
        "\n",
        "### Going backward with `s[::-1]`:\n",
        "\n",
        "| Step | Index | Character | Result  |\n",
        "| ---- | ----- | --------- | ------- |\n",
        "| 1    | 4     | o         | \"o\"     |\n",
        "| 2    | 3     | l         | \"ol\"    |\n",
        "| 3    | 2     | l         | \"oll\"   |\n",
        "| 4    | 1     | e         | \"olle\"  |\n",
        "| 5    | 0     | h         | \"olleh\" |\n",
        "\n",
        "✅ Final output: `\"olleh\"`\n",
        "\n",
        "---\n",
        "\n",
        "## 🧪 Try it Yourself\n",
        "\n",
        "```python\n",
        "word = \"hello\"\n",
        "reversed_word = word[::-1]\n",
        "print(reversed_word)\n",
        "```\n",
        "\n",
        "🖨️ Output:\n",
        "\n",
        "```\n",
        "olleh\n",
        "```\n",
        "\n",
        "---\n",
        "\n",
        "## 🔄 In One Line:\n",
        "\n",
        "```python\n",
        "s[::-1] = reverse the string!\n",
        "```\n",
        "\n",
        "---\n",
        "\n",
        "\n"
      ]
    },
    {
      "cell_type": "code",
      "execution_count": 3,
      "metadata": {},
      "outputs": [
        {
          "name": "stdout",
          "output_type": "stream",
          "text": [
            "potpaL\n"
          ]
        }
      ],
      "source": [
        "word = \"Laptop\"\n",
        "reverse_str = word[::-1]\n",
        "print(reverse_str)"
      ]
    },
    {
      "cell_type": "markdown",
      "metadata": {},
      "source": [
        "## ✅ 2. Check if a String is a Palindrome\n",
        "\n",
        "### ❓ What is a Palindrome?\n",
        "\n",
        "A **palindrome** is a word that reads the same **forward and backward**.\n",
        "\n",
        "---\n",
        "\n",
        "### 🔡 Examples of Palindromes:\n",
        "\n",
        "| Word    | Is Palindrome? |\n",
        "| ------- | -------------- |\n",
        "| madam   | ✅ Yes          |\n",
        "| racecar | ✅ Yes          |\n",
        "| apple   | ❌ No           |\n",
        "| level   | ✅ Yes          |\n",
        "| Hello   | ❌ No           |\n",
        "\n",
        "---\n",
        "\n",
        "## ✅ Goal:\n",
        "\n",
        "Write a function to check if a given word is a palindrome.\n",
        "\n",
        "---\n",
        "\n",
        "## ✅ Best Python Code (Beginner-Friendly):\n",
        "\n",
        "```python\n",
        "def is_palindrome(word):\n",
        "    word = word.lower()  # convert to lowercase to ignore case\n",
        "    return word == word[::-1]\n",
        "\n",
        "# Test it\n",
        "print(is_palindrome(\"Madam\"))   # True\n",
        "print(is_palindrome(\"Python\"))  # False\n",
        "```\n",
        "\n",
        "---\n",
        "\n",
        "### 👇 Let’s break it down step-by-step:\n",
        "\n",
        "#### Step 1: `word.lower()`\n",
        "\n",
        "* Converts all letters to **lowercase**\n",
        "* So `\"Madam\"` → `\"madam\"`\n",
        "\n",
        "This helps because **`M != m`** (case matters in programming)\n",
        "\n",
        "---\n",
        "\n",
        "#### Step 2: `word[::-1]`\n",
        "\n",
        "* This is the **reverse** of the word.\n",
        "* We already learned this in previous step.\n",
        "\n",
        "```python\n",
        "\"madam\"[::-1] = \"madam\"\n",
        "\"python\"[::-1] = \"nohtyp\"\n",
        "```\n",
        "\n",
        "---\n",
        "\n",
        "#### Step 3: Compare\n",
        "\n",
        "```python\n",
        "return word == word[::-1]\n",
        "```\n",
        "\n",
        "✅ If forward word and reversed word are **equal**, it's a palindrome.\n",
        "❌ If not, it’s not a palindrome.\n",
        "\n",
        "---\n",
        "\n",
        "## 🧪 Try It with Inputs:\n",
        "\n",
        "```python\n",
        "print(is_palindrome(\"Racecar\"))   # True\n",
        "print(is_palindrome(\"Level\"))     # True\n",
        "print(is_palindrome(\"Data\"))      # False\n",
        "```\n",
        "\n",
        "---\n",
        "\n",
        "## 🔁 Want to See It Without Slicing?\n",
        "\n",
        "If slicing `[:: -1]` is confusing, here's the same thing using a loop:\n",
        "\n",
        "```python\n",
        "def is_palindrome(word):\n",
        "    word = word.lower()\n",
        "    reversed_word = \"\"\n",
        "    for ch in word:\n",
        "        reversed_word = ch + reversed_word\n",
        "    return word == reversed_word\n",
        "```\n",
        "\n",
        "This manually builds the reversed word.\n",
        "\n"
      ]
    },
    {
      "cell_type": "code",
      "execution_count": 5,
      "metadata": {},
      "outputs": [
        {
          "name": "stdout",
          "output_type": "stream",
          "text": [
            "True\n"
          ]
        }
      ],
      "source": [
        "def is_palindrome(word):\n",
        "    word = word.lower()\n",
        "    return word == word[::-1]  \n",
        "print(is_palindrome(\"Madam\"))\n"
      ]
    },
    {
      "cell_type": "markdown",
      "metadata": {},
      "source": [
        "#### link = https://github.com/Tanu-N-Prabhu/Python/blob/master/Python%20Coding%20Interview%20Prep/Python%20Coding%20Interview%20Questions%20(Beginner%20to%20Advanced).md#-beginner-level"
      ]
    },
    {
      "cell_type": "code",
      "execution_count": 8,
      "metadata": {},
      "outputs": [
        {
          "name": "stdout",
          "output_type": "stream",
          "text": [
            "9\n"
          ]
        }
      ],
      "source": [
        "vowel = ['a', 'e', 'i', 'o', 'u']\n",
        "word = \"prooooooogramming\"\n",
        "count = 0\n",
        "for character in word:\n",
        "    if character in vowel:\n",
        "        count = count + 1\n",
        "print(count)"
      ]
    },
    {
      "cell_type": "code",
      "execution_count": null,
      "metadata": {},
      "outputs": [],
      "source": []
    }
  ],
  "metadata": {
    "colab": {
      "provenance": []
    },
    "kernelspec": {
      "display_name": "Python 3",
      "name": "python3"
    },
    "language_info": {
      "codemirror_mode": {
        "name": "ipython",
        "version": 3
      },
      "file_extension": ".py",
      "mimetype": "text/x-python",
      "name": "python",
      "nbconvert_exporter": "python",
      "pygments_lexer": "ipython3",
      "version": "3.13.5"
    }
  },
  "nbformat": 4,
  "nbformat_minor": 0
}
